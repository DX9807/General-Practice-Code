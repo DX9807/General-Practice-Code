{
 "cells": [
  {
   "cell_type": "markdown",
   "metadata": {},
   "source": [
    "# Special Methods"
   ]
  },
  {
   "cell_type": "code",
   "execution_count": 7,
   "metadata": {},
   "outputs": [
    {
     "name": "stdout",
     "output_type": "stream",
     "text": [
      "In __str__:2\n"
     ]
    },
    {
     "data": {
      "text/plain": [
       "In __str__:2"
      ]
     },
     "execution_count": 7,
     "metadata": {},
     "output_type": "execute_result"
    }
   ],
   "source": [
    "class Myclass():\n",
    "    def __init__(self):\n",
    "        self.data=2\n",
    "    def __str__(self):\n",
    "        return 'In __str__:%s'% str(self.data)\n",
    "    def __repr__(self):\n",
    "        return str(self)\n",
    "    \n",
    "a=Myclass()\n",
    "print(a)\n",
    "a"
   ]
  },
  {
   "cell_type": "code",
   "execution_count": 8,
   "metadata": {},
   "outputs": [],
   "source": [
    "C = [] \n",
    "C_value = -50 \n",
    "C_max = 200 \n",
    "while C_value <= C_max: \n",
    "    C.append(C_value) \n",
    "    C_value += 2.5 "
   ]
  },
  {
   "cell_type": "code",
   "execution_count": 9,
   "metadata": {},
   "outputs": [
    {
     "data": {
      "text/plain": [
       "[-50,\n",
       " -47.5,\n",
       " -45.0,\n",
       " -42.5,\n",
       " -40.0,\n",
       " -37.5,\n",
       " -35.0,\n",
       " -32.5,\n",
       " -30.0,\n",
       " -27.5,\n",
       " -25.0,\n",
       " -22.5,\n",
       " -20.0,\n",
       " -17.5,\n",
       " -15.0,\n",
       " -12.5,\n",
       " -10.0,\n",
       " -7.5,\n",
       " -5.0,\n",
       " -2.5,\n",
       " 0.0,\n",
       " 2.5,\n",
       " 5.0,\n",
       " 7.5,\n",
       " 10.0,\n",
       " 12.5,\n",
       " 15.0,\n",
       " 17.5,\n",
       " 20.0,\n",
       " 22.5,\n",
       " 25.0,\n",
       " 27.5,\n",
       " 30.0,\n",
       " 32.5,\n",
       " 35.0,\n",
       " 37.5,\n",
       " 40.0,\n",
       " 42.5,\n",
       " 45.0,\n",
       " 47.5,\n",
       " 50.0,\n",
       " 52.5,\n",
       " 55.0,\n",
       " 57.5,\n",
       " 60.0,\n",
       " 62.5,\n",
       " 65.0,\n",
       " 67.5,\n",
       " 70.0,\n",
       " 72.5,\n",
       " 75.0,\n",
       " 77.5,\n",
       " 80.0,\n",
       " 82.5,\n",
       " 85.0,\n",
       " 87.5,\n",
       " 90.0,\n",
       " 92.5,\n",
       " 95.0,\n",
       " 97.5,\n",
       " 100.0,\n",
       " 102.5,\n",
       " 105.0,\n",
       " 107.5,\n",
       " 110.0,\n",
       " 112.5,\n",
       " 115.0,\n",
       " 117.5,\n",
       " 120.0,\n",
       " 122.5,\n",
       " 125.0,\n",
       " 127.5,\n",
       " 130.0,\n",
       " 132.5,\n",
       " 135.0,\n",
       " 137.5,\n",
       " 140.0,\n",
       " 142.5,\n",
       " 145.0,\n",
       " 147.5,\n",
       " 150.0,\n",
       " 152.5,\n",
       " 155.0,\n",
       " 157.5,\n",
       " 160.0,\n",
       " 162.5,\n",
       " 165.0,\n",
       " 167.5,\n",
       " 170.0,\n",
       " 172.5,\n",
       " 175.0,\n",
       " 177.5,\n",
       " 180.0,\n",
       " 182.5,\n",
       " 185.0,\n",
       " 187.5,\n",
       " 190.0,\n",
       " 192.5,\n",
       " 195.0,\n",
       " 197.5,\n",
       " 200.0]"
      ]
     },
     "execution_count": 9,
     "metadata": {},
     "output_type": "execute_result"
    }
   ],
   "source": [
    "C"
   ]
  },
  {
   "cell_type": "code",
   "execution_count": 13,
   "metadata": {},
   "outputs": [
    {
     "name": "stdout",
     "output_type": "stream",
     "text": [
      "C F\n",
      "  -20  -4.0\n",
      "  -15   5.0\n",
      "  -10  14.0\n",
      "   -5  23.0\n",
      "    0  32.0\n",
      "    5  41.0\n",
      "   10  50.0\n",
      "   15  59.0\n",
      "   20  68.0\n",
      "   25  77.0\n",
      "   30  86.0\n",
      "   35  95.0\n",
      "   40 104.0\n"
     ]
    }
   ],
   "source": [
    "Cdegrees = [-20, -15, -10, -5, 0, 5, 10, 15, 20, 25, 30, 35, 40] \n",
    "print ('C F') \n",
    "for C in Cdegrees: \n",
    "    F = (9.0/5)*C + 32 \n",
    "    print ('%5d %5.1f'%(C, F))"
   ]
  },
  {
   "cell_type": "code",
   "execution_count": 14,
   "metadata": {},
   "outputs": [],
   "source": [
    "C_plus_5=[C+5 for C in Cdegrees]"
   ]
  },
  {
   "cell_type": "code",
   "execution_count": 15,
   "metadata": {},
   "outputs": [
    {
     "data": {
      "text/plain": [
       "[-15, -10, -5, 0, 5, 10, 15, 20, 25, 30, 35, 40, 45]"
      ]
     },
     "execution_count": 15,
     "metadata": {},
     "output_type": "execute_result"
    }
   ],
   "source": [
    "C_plus_5\n"
   ]
  },
  {
   "cell_type": "code",
   "execution_count": 18,
   "metadata": {},
   "outputs": [],
   "source": [
    "mnb=[Cdegrees[i]**i for i in range(13)]"
   ]
  },
  {
   "cell_type": "code",
   "execution_count": 19,
   "metadata": {},
   "outputs": [
    {
     "data": {
      "text/plain": [
       "[1,\n",
       " -15,\n",
       " 100,\n",
       " -125,\n",
       " 0,\n",
       " 3125,\n",
       " 1000000,\n",
       " 170859375,\n",
       " 25600000000,\n",
       " 3814697265625,\n",
       " 590490000000000,\n",
       " 96549157373046875,\n",
       " 16777216000000000000]"
      ]
     },
     "execution_count": 19,
     "metadata": {},
     "output_type": "execute_result"
    }
   ],
   "source": [
    "mnb\n"
   ]
  },
  {
   "cell_type": "code",
   "execution_count": null,
   "metadata": {},
   "outputs": [],
   "source": []
  }
 ],
 "metadata": {
  "kernelspec": {
   "display_name": "Python 3",
   "language": "python",
   "name": "python3"
  },
  "language_info": {
   "codemirror_mode": {
    "name": "ipython",
    "version": 3
   },
   "file_extension": ".py",
   "mimetype": "text/x-python",
   "name": "python",
   "nbconvert_exporter": "python",
   "pygments_lexer": "ipython3",
   "version": "3.7.3"
  }
 },
 "nbformat": 4,
 "nbformat_minor": 2
}
