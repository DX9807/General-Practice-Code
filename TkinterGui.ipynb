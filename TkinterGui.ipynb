{
 "cells": [
  {
   "cell_type": "code",
   "execution_count": null,
   "metadata": {},
   "outputs": [],
   "source": [
    "import tkinter as tk\n",
    "window=tkinter.Tk()\n",
    "window.title(\"Endgame\")\n",
    "Top_frame=tk.Frame(window)\n",
    "Bottom_frame=tk.Frame(window)\n",
    "l1=tk.Label(window,text=\"Subodh!\",font=(\"Arial Bold\",50))\n",
    "l1.grid(column=0,row=0)\n",
    "btn1=tk.Button(Top_frame,text=\"Enter\",bg=\"green\").pack(side=\"left\")\n",
    "btn2=tk.Button(Top_frame,text=\"Buttton2\",fg=\"red\").pack(side=\"left\")\n",
    "btn3=tk.Button(Bottom_frame,text=\"Enter2\",bg=\"green\").pack(side=\"right\")\n",
    "btn4=tk.Button(Bottom_frame,text=\"Buttton3\",fg=\"red\").pack(side=\"right\")\n",
    "window.mainloop()"
   ]
  },
  {
   "cell_type": "code",
   "execution_count": null,
   "metadata": {},
   "outputs": [],
   "source": []
  },
  {
   "cell_type": "code",
   "execution_count": null,
   "metadata": {},
   "outputs": [],
   "source": []
  }
 ],
 "metadata": {
  "kernelspec": {
   "display_name": "Python 3",
   "language": "python",
   "name": "python3"
  },
  "language_info": {
   "codemirror_mode": {
    "name": "ipython",
    "version": 3
   },
   "file_extension": ".py",
   "mimetype": "text/x-python",
   "name": "python",
   "nbconvert_exporter": "python",
   "pygments_lexer": "ipython3",
   "version": "3.7.3"
  }
 },
 "nbformat": 4,
 "nbformat_minor": 2
}
